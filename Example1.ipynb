{
 "cells": [
  {
   "cell_type": "code",
   "execution_count": 1,
   "id": "59596c09-c28b-4d91-877f-7fe126c6ccea",
   "metadata": {},
   "outputs": [
    {
     "data": {
      "text/html": [
       "<pre style=\"white-space:pre;overflow-x:auto;line-height:normal;font-family:Menlo,'DejaVu Sans Mono',consolas,'Courier New',monospace\"><span style=\"color: #800080; text-decoration-color: #800080; background-color: #000000; font-style: italic\"></span>\n",
       "</pre>\n"
      ],
      "text/plain": [
       "\n"
      ]
     },
     "metadata": {},
     "output_type": "display_data"
    }
   ],
   "source": [
    "from evdschat import chat \n",
    "from rich import print \n"
   ]
  },
  {
   "cell_type": "code",
   "execution_count": 8,
   "id": "a72e4c2c-8f06-4dbf-9b04-688594e38591",
   "metadata": {},
   "outputs": [
    {
     "name": "stdout",
     "output_type": "stream",
     "text": [
      "Requesting... will be running now...\n",
      "<CacheFound>\n"
     ]
    },
    {
     "data": {
      "text/html": [
       "<pre style=\"white-space:pre;overflow-x:auto;line-height:normal;font-family:Menlo,'DejaVu Sans Mono',consolas,'Courier New',monospace\"><span style=\"color: #800080; text-decoration-color: #800080; background-color: #000000; font-style: italic\">Could not convert some columns to float type</span><span style=\"color: #808000; text-decoration-color: #808000; background-color: #000000; font-style: italic\">...</span>\n",
       "</pre>\n"
      ],
      "text/plain": [
       "\u001b[3;35;40mCould not convert some columns to float type\u001b[0m\u001b[3;33;40m...\u001b[0m\n"
      ]
     },
     "metadata": {},
     "output_type": "display_data"
    },
    {
     "name": "stdout",
     "output_type": "stream",
     "text": [
      "<CacheFound>\n"
     ]
    },
    {
     "data": {
      "text/html": [
       "<pre style=\"white-space:pre;overflow-x:auto;line-height:normal;font-family:Menlo,'DejaVu Sans Mono',consolas,'Courier New',monospace\"><span style=\"color: #800080; text-decoration-color: #800080; background-color: #000000; font-style: italic\">Could not convert some columns to float type</span><span style=\"color: #808000; text-decoration-color: #808000; background-color: #000000; font-style: italic\">...</span>\n",
       "</pre>\n"
      ],
      "text/plain": [
       "\u001b[3;35;40mCould not convert some columns to float type\u001b[0m\u001b[3;33;40m...\u001b[0m\n"
      ]
     },
     "metadata": {},
     "output_type": "display_data"
    },
    {
     "name": "stdout",
     "output_type": "stream",
     "text": [
      "Requesting... will be running now...\n"
     ]
    },
    {
     "data": {
      "text/html": [
       "<pre style=\"white-space:pre;overflow-x:auto;line-height:normal;font-family:Menlo,'DejaVu Sans Mono',consolas,'Courier New',monospace\"><span style=\"color: #ff00af; text-decoration-color: #ff00af; background-color: #000000; font-style: italic\">Could not convert some columns to float type</span><span style=\"color: #808000; text-decoration-color: #808000; background-color: #000000; font-style: italic\">...</span>\n",
       "</pre>\n"
      ],
      "text/plain": [
       "\u001b[3;38;5;199;40mCould not convert some columns to float type\u001b[0m\u001b[3;33;40m...\u001b[0m\n"
      ]
     },
     "metadata": {},
     "output_type": "display_data"
    },
    {
     "data": {
      "text/plain": [
       "Result(data=     TP_IYA_INVE2_S26_A  TP_IYA_CNDU2_S26_A  TP_IYA_CDUR2_S26_A   Tarih\n",
       "0                   NaN                 NaN                 NaN  2000-1\n",
       "1                   NaN                 NaN                 NaN  2000-2\n",
       "2                   NaN                 NaN                 NaN  2000-3\n",
       "3                   NaN                 NaN                 NaN  2000-4\n",
       "4                   NaN                 NaN                 NaN  2000-5\n",
       "..                  ...                 ...                 ...     ...\n",
       "290                52.3                56.6                54.4  2024-3\n",
       "291                52.5                59.1                54.3  2024-4\n",
       "292                52.6                57.3                53.7  2024-5\n",
       "293                51.6                56.0                50.3  2024-6\n",
       "294                49.8                53.9                49.3  2024-7\n",
       "\n",
       "[295 rows x 4 columns], metadata=           SERIE_CODE DATAGROUP_CODE  \\\n",
       "0  TP.IYA.INVE2.S26.A      bie_inve2   \n",
       "0  TP.IYA.CNDU2.S26.A      bie_cndu2   \n",
       "0  TP.IYA.CDUR2.S26.A      bie_cdur2   \n",
       "\n",
       "                                          SERIE_NAME  \\\n",
       "0  26.(AĞIRLIKLI ORTALAMA) Gelecek on iki aylık d...   \n",
       "0  26.(AĞIRLIKLI ORTALAMA) Gelecek on iki aylık d...   \n",
       "0  26.(AĞIRLIKLI ORTALAMA) Gelecek on iki aylık d...   \n",
       "\n",
       "                                      SERIE_NAME_ENG FREQUENCY_STR  \\\n",
       "0  26.(WEIGHTED AVERAGE) What is your expectation...         AYLIK   \n",
       "0  26.(WEIGHTED AVERAGE) What is your expectation...         AYLIK   \n",
       "0  26.(WEIGHTED AVERAGE) What is your expectation...         AYLIK   \n",
       "\n",
       "  DEFAULT_AGG_METHOD_STR DEFAULT_AGG_METHOD  \\\n",
       "0               ORTALAMA                avg   \n",
       "0               ORTALAMA                avg   \n",
       "0               ORTALAMA                avg   \n",
       "\n",
       "                                                 TAG  \\\n",
       "0  RKGE, Reel, Kesim, Güven, Endeks, İktisadi Yön...   \n",
       "0  RKGE, Reel, Kesim, Güven, Endeks, İktisadi Yön...   \n",
       "0  RKGE, Reel, Kesim, Güven, Endeks, İktisadi Yön...   \n",
       "\n",
       "                                             TAG_ENG DATASOURCE  \\\n",
       "0  RSCI, Real, Sector, Confidence, Index, Busines...       TCMB   \n",
       "0  RSCI, Real, Sector, Confidence, Index, Busines...       TCMB   \n",
       "0  RSCI, Real, Sector, Confidence, Index, Busines...       TCMB   \n",
       "\n",
       "  DATASOURCE_ENG                                      METADATA_LINK  \\\n",
       "0           CBRT  https://www.tcmb.gov.tr/wps/wcm/connect/422e34...   \n",
       "0           CBRT  https://www.tcmb.gov.tr/wps/wcm/connect/422e34...   \n",
       "0           CBRT  https://www.tcmb.gov.tr/wps/wcm/connect/422e34...   \n",
       "\n",
       "                                   METADATA_LINK_ENG  \\\n",
       "0  https://www.tcmb.gov.tr/wps/wcm/connect/0118a6...   \n",
       "0  https://www.tcmb.gov.tr/wps/wcm/connect/0118a6...   \n",
       "0  https://www.tcmb.gov.tr/wps/wcm/connect/0118a6...   \n",
       "\n",
       "                                        REV_POL_LINK  \\\n",
       "0  https://www.tcmb.gov.tr/wps/wcm/connect/f12964...   \n",
       "0  https://www.tcmb.gov.tr/wps/wcm/connect/f12964...   \n",
       "0  https://www.tcmb.gov.tr/wps/wcm/connect/f12964...   \n",
       "\n",
       "                                    REV_POL_LINK_ENG  \\\n",
       "0  https://www.tcmb.gov.tr/wps/wcm/connect/c4edef...   \n",
       "0  https://www.tcmb.gov.tr/wps/wcm/connect/c4edef...   \n",
       "0  https://www.tcmb.gov.tr/wps/wcm/connect/c4edef...   \n",
       "\n",
       "                                        APP_CHA_LINK  \\\n",
       "0  https://www.tcmb.gov.tr/wps/wcm/connect/7051bb...   \n",
       "0  https://www.tcmb.gov.tr/wps/wcm/connect/7051bb...   \n",
       "0  https://www.tcmb.gov.tr/wps/wcm/connect/7051bb...   \n",
       "\n",
       "                                    APP_CHA_LINK_ENG  START_DATE    END_DATE  \n",
       "0  https://www.tcmb.gov.tr/wps/wcm/connect/574622...  01-01-2007  01-07-2024  \n",
       "0  https://www.tcmb.gov.tr/wps/wcm/connect/574622...  01-01-2007  01-07-2024  \n",
       "0  https://www.tcmb.gov.tr/wps/wcm/connect/574622...  01-01-2007  01-07-2024  , write=<function get_series_exp.<locals>.build_df at 0x128129480>)"
      ]
     },
     "execution_count": 8,
     "metadata": {},
     "output_type": "execute_result"
    }
   ],
   "source": [
    "prompt = '''\n",
    "\n",
    "    I need  sectoral inflation indexes\n",
    "'''\n",
    "result , notes = chat(prompt , test = False   ) \n",
    "result\n"
   ]
  },
  {
   "cell_type": "code",
   "execution_count": 9,
   "id": "eb0aaf30-2ee9-4584-a634-ea4254bb4e5b",
   "metadata": {},
   "outputs": [
    {
     "data": {
      "text/html": [
       "<pre style=\"white-space:pre;overflow-x:auto;line-height:normal;font-family:Menlo,'DejaVu Sans Mono',consolas,'Courier New',monospace\">These tickets provide sectoral inflation indexes based on producer prices expectations over the next twelve months.\n",
       "You can retrieve the data using the get_series function in the evdspy package. Each ticket corresponds to a \n",
       "different sector: TP.IYA.INVE2.S26.A <span style=\"font-weight: bold\">(</span>Investment<span style=\"font-weight: bold\">)</span>, TP.IYA.CNDU2.S26.A <span style=\"font-weight: bold\">(</span>Consumer<span style=\"font-weight: bold\">)</span>, and TP.IYA.CDUR2.S26.A <span style=\"font-weight: bold\">(</span>Durable \n",
       "Goods<span style=\"font-weight: bold\">)</span>.\n",
       "</pre>\n"
      ],
      "text/plain": [
       "These tickets provide sectoral inflation indexes based on producer prices expectations over the next twelve months.\n",
       "You can retrieve the data using the get_series function in the evdspy package. Each ticket corresponds to a \n",
       "different sector: TP.IYA.INVE2.S26.A \u001b[1m(\u001b[0mInvestment\u001b[1m)\u001b[0m, TP.IYA.CNDU2.S26.A \u001b[1m(\u001b[0mConsumer\u001b[1m)\u001b[0m, and TP.IYA.CDUR2.S26.A \u001b[1m(\u001b[0mDurable \n",
       "Goods\u001b[1m)\u001b[0m.\n"
      ]
     },
     "metadata": {},
     "output_type": "display_data"
    }
   ],
   "source": [
    "print(notes)\n"
   ]
  },
  {
   "cell_type": "code",
   "execution_count": 12,
   "id": "6b8bea3e-9095-4a37-bf9d-0ecef65a54cf",
   "metadata": {},
   "outputs": [
    {
     "data": {
      "text/html": [
       "<div>\n",
       "<style scoped>\n",
       "    .dataframe tbody tr th:only-of-type {\n",
       "        vertical-align: middle;\n",
       "    }\n",
       "\n",
       "    .dataframe tbody tr th {\n",
       "        vertical-align: top;\n",
       "    }\n",
       "\n",
       "    .dataframe thead th {\n",
       "        text-align: right;\n",
       "    }\n",
       "</style>\n",
       "<table border=\"1\" class=\"dataframe\">\n",
       "  <thead>\n",
       "    <tr style=\"text-align: right;\">\n",
       "      <th></th>\n",
       "      <th>TP_IYA_INVE2_S26_A</th>\n",
       "      <th>TP_IYA_CNDU2_S26_A</th>\n",
       "      <th>TP_IYA_CDUR2_S26_A</th>\n",
       "      <th>Tarih</th>\n",
       "    </tr>\n",
       "  </thead>\n",
       "  <tbody>\n",
       "    <tr>\n",
       "      <th>0</th>\n",
       "      <td>NaN</td>\n",
       "      <td>NaN</td>\n",
       "      <td>NaN</td>\n",
       "      <td>2000-1</td>\n",
       "    </tr>\n",
       "    <tr>\n",
       "      <th>1</th>\n",
       "      <td>NaN</td>\n",
       "      <td>NaN</td>\n",
       "      <td>NaN</td>\n",
       "      <td>2000-2</td>\n",
       "    </tr>\n",
       "    <tr>\n",
       "      <th>2</th>\n",
       "      <td>NaN</td>\n",
       "      <td>NaN</td>\n",
       "      <td>NaN</td>\n",
       "      <td>2000-3</td>\n",
       "    </tr>\n",
       "    <tr>\n",
       "      <th>3</th>\n",
       "      <td>NaN</td>\n",
       "      <td>NaN</td>\n",
       "      <td>NaN</td>\n",
       "      <td>2000-4</td>\n",
       "    </tr>\n",
       "    <tr>\n",
       "      <th>4</th>\n",
       "      <td>NaN</td>\n",
       "      <td>NaN</td>\n",
       "      <td>NaN</td>\n",
       "      <td>2000-5</td>\n",
       "    </tr>\n",
       "    <tr>\n",
       "      <th>...</th>\n",
       "      <td>...</td>\n",
       "      <td>...</td>\n",
       "      <td>...</td>\n",
       "      <td>...</td>\n",
       "    </tr>\n",
       "    <tr>\n",
       "      <th>290</th>\n",
       "      <td>52.3</td>\n",
       "      <td>56.6</td>\n",
       "      <td>54.4</td>\n",
       "      <td>2024-3</td>\n",
       "    </tr>\n",
       "    <tr>\n",
       "      <th>291</th>\n",
       "      <td>52.5</td>\n",
       "      <td>59.1</td>\n",
       "      <td>54.3</td>\n",
       "      <td>2024-4</td>\n",
       "    </tr>\n",
       "    <tr>\n",
       "      <th>292</th>\n",
       "      <td>52.6</td>\n",
       "      <td>57.3</td>\n",
       "      <td>53.7</td>\n",
       "      <td>2024-5</td>\n",
       "    </tr>\n",
       "    <tr>\n",
       "      <th>293</th>\n",
       "      <td>51.6</td>\n",
       "      <td>56.0</td>\n",
       "      <td>50.3</td>\n",
       "      <td>2024-6</td>\n",
       "    </tr>\n",
       "    <tr>\n",
       "      <th>294</th>\n",
       "      <td>49.8</td>\n",
       "      <td>53.9</td>\n",
       "      <td>49.3</td>\n",
       "      <td>2024-7</td>\n",
       "    </tr>\n",
       "  </tbody>\n",
       "</table>\n",
       "<p>295 rows × 4 columns</p>\n",
       "</div>"
      ],
      "text/plain": [
       "     TP_IYA_INVE2_S26_A  TP_IYA_CNDU2_S26_A  TP_IYA_CDUR2_S26_A   Tarih\n",
       "0                   NaN                 NaN                 NaN  2000-1\n",
       "1                   NaN                 NaN                 NaN  2000-2\n",
       "2                   NaN                 NaN                 NaN  2000-3\n",
       "3                   NaN                 NaN                 NaN  2000-4\n",
       "4                   NaN                 NaN                 NaN  2000-5\n",
       "..                  ...                 ...                 ...     ...\n",
       "290                52.3                56.6                54.4  2024-3\n",
       "291                52.5                59.1                54.3  2024-4\n",
       "292                52.6                57.3                53.7  2024-5\n",
       "293                51.6                56.0                50.3  2024-6\n",
       "294                49.8                53.9                49.3  2024-7\n",
       "\n",
       "[295 rows x 4 columns]"
      ]
     },
     "execution_count": 12,
     "metadata": {},
     "output_type": "execute_result"
    }
   ],
   "source": [
    "result.data"
   ]
  },
  {
   "cell_type": "code",
   "execution_count": 10,
   "id": "063c3c7b-65b9-4c74-a87b-ff94d4254143",
   "metadata": {},
   "outputs": [
    {
     "data": {
      "text/html": [
       "<pre style=\"white-space:pre;overflow-x:auto;line-height:normal;font-family:Menlo,'DejaVu Sans Mono',consolas,'Courier New',monospace\">           SERIE_CODE DATAGROUP_CODE  \\\n",
       "<span style=\"color: #008080; text-decoration-color: #008080; font-weight: bold\">0</span>  TP.IYA.INVE2.S26.A      bie_inve2   \n",
       "<span style=\"color: #008080; text-decoration-color: #008080; font-weight: bold\">0</span>  TP.IYA.CNDU2.S26.A      bie_cndu2   \n",
       "<span style=\"color: #008080; text-decoration-color: #008080; font-weight: bold\">0</span>  TP.IYA.CDUR2.S26.A      bie_cdur2   \n",
       "\n",
       "                                          SERIE_NAME  \\\n",
       "<span style=\"color: #008080; text-decoration-color: #008080; font-weight: bold\">0</span>  <span style=\"color: #800080; text-decoration-color: #800080; font-weight: bold\">26.</span><span style=\"font-weight: bold\">(</span>AĞIRLIKLI ORTALAMA<span style=\"font-weight: bold\">)</span> Gelecek on iki aylık d<span style=\"color: #808000; text-decoration-color: #808000\">...</span>   \n",
       "<span style=\"color: #008080; text-decoration-color: #008080; font-weight: bold\">0</span>  <span style=\"color: #800080; text-decoration-color: #800080; font-weight: bold\">26.</span><span style=\"font-weight: bold\">(</span>AĞIRLIKLI ORTALAMA<span style=\"font-weight: bold\">)</span> Gelecek on iki aylık d<span style=\"color: #808000; text-decoration-color: #808000\">...</span>   \n",
       "<span style=\"color: #008080; text-decoration-color: #008080; font-weight: bold\">0</span>  <span style=\"color: #800080; text-decoration-color: #800080; font-weight: bold\">26.</span><span style=\"font-weight: bold\">(</span>AĞIRLIKLI ORTALAMA<span style=\"font-weight: bold\">)</span> Gelecek on iki aylık d<span style=\"color: #808000; text-decoration-color: #808000\">...</span>   \n",
       "\n",
       "                                      SERIE_NAME_ENG FREQUENCY_STR  \\\n",
       "<span style=\"color: #008080; text-decoration-color: #008080; font-weight: bold\">0</span>  <span style=\"color: #800080; text-decoration-color: #800080; font-weight: bold\">26.</span><span style=\"font-weight: bold\">(</span>WEIGHTED AVERAGE<span style=\"font-weight: bold\">)</span> What is your expectation<span style=\"color: #808000; text-decoration-color: #808000\">...</span>         AYLIK   \n",
       "<span style=\"color: #008080; text-decoration-color: #008080; font-weight: bold\">0</span>  <span style=\"color: #800080; text-decoration-color: #800080; font-weight: bold\">26.</span><span style=\"font-weight: bold\">(</span>WEIGHTED AVERAGE<span style=\"font-weight: bold\">)</span> What is your expectation<span style=\"color: #808000; text-decoration-color: #808000\">...</span>         AYLIK   \n",
       "<span style=\"color: #008080; text-decoration-color: #008080; font-weight: bold\">0</span>  <span style=\"color: #800080; text-decoration-color: #800080; font-weight: bold\">26.</span><span style=\"font-weight: bold\">(</span>WEIGHTED AVERAGE<span style=\"font-weight: bold\">)</span> What is your expectation<span style=\"color: #808000; text-decoration-color: #808000\">...</span>         AYLIK   \n",
       "\n",
       "  DEFAULT_AGG_METHOD_STR DEFAULT_AGG_METHOD  \\\n",
       "<span style=\"color: #008080; text-decoration-color: #008080; font-weight: bold\">0</span>               ORTALAMA                avg   \n",
       "<span style=\"color: #008080; text-decoration-color: #008080; font-weight: bold\">0</span>               ORTALAMA                avg   \n",
       "<span style=\"color: #008080; text-decoration-color: #008080; font-weight: bold\">0</span>               ORTALAMA                avg   \n",
       "\n",
       "                                                 TAG  \\\n",
       "<span style=\"color: #008080; text-decoration-color: #008080; font-weight: bold\">0</span>  RKGE, Reel, Kesim, Güven, Endeks, İktisadi Yön<span style=\"color: #808000; text-decoration-color: #808000\">...</span>   \n",
       "<span style=\"color: #008080; text-decoration-color: #008080; font-weight: bold\">0</span>  RKGE, Reel, Kesim, Güven, Endeks, İktisadi Yön<span style=\"color: #808000; text-decoration-color: #808000\">...</span>   \n",
       "<span style=\"color: #008080; text-decoration-color: #008080; font-weight: bold\">0</span>  RKGE, Reel, Kesim, Güven, Endeks, İktisadi Yön<span style=\"color: #808000; text-decoration-color: #808000\">...</span>   \n",
       "\n",
       "                                             TAG_ENG DATASOURCE  \\\n",
       "<span style=\"color: #008080; text-decoration-color: #008080; font-weight: bold\">0</span>  RSCI, Real, Sector, Confidence, Index, Busines<span style=\"color: #808000; text-decoration-color: #808000\">...</span>       TCMB   \n",
       "<span style=\"color: #008080; text-decoration-color: #008080; font-weight: bold\">0</span>  RSCI, Real, Sector, Confidence, Index, Busines<span style=\"color: #808000; text-decoration-color: #808000\">...</span>       TCMB   \n",
       "<span style=\"color: #008080; text-decoration-color: #008080; font-weight: bold\">0</span>  RSCI, Real, Sector, Confidence, Index, Busines<span style=\"color: #808000; text-decoration-color: #808000\">...</span>       TCMB   \n",
       "\n",
       "  DATASOURCE_ENG                                      METADATA_LINK  \\\n",
       "<span style=\"color: #008080; text-decoration-color: #008080; font-weight: bold\">0</span>           CBRT  <span style=\"color: #0000ff; text-decoration-color: #0000ff; text-decoration: underline\">https://www.tcmb.gov.tr/wps/wcm/connect/422e34...</span>   \n",
       "<span style=\"color: #008080; text-decoration-color: #008080; font-weight: bold\">0</span>           CBRT  <span style=\"color: #0000ff; text-decoration-color: #0000ff; text-decoration: underline\">https://www.tcmb.gov.tr/wps/wcm/connect/422e34...</span>   \n",
       "<span style=\"color: #008080; text-decoration-color: #008080; font-weight: bold\">0</span>           CBRT  <span style=\"color: #0000ff; text-decoration-color: #0000ff; text-decoration: underline\">https://www.tcmb.gov.tr/wps/wcm/connect/422e34...</span>   \n",
       "\n",
       "                                   METADATA_LINK_ENG  \\\n",
       "<span style=\"color: #008080; text-decoration-color: #008080; font-weight: bold\">0</span>  <span style=\"color: #0000ff; text-decoration-color: #0000ff; text-decoration: underline\">https://www.tcmb.gov.tr/wps/wcm/connect/0118a6...</span>   \n",
       "<span style=\"color: #008080; text-decoration-color: #008080; font-weight: bold\">0</span>  <span style=\"color: #0000ff; text-decoration-color: #0000ff; text-decoration: underline\">https://www.tcmb.gov.tr/wps/wcm/connect/0118a6...</span>   \n",
       "<span style=\"color: #008080; text-decoration-color: #008080; font-weight: bold\">0</span>  <span style=\"color: #0000ff; text-decoration-color: #0000ff; text-decoration: underline\">https://www.tcmb.gov.tr/wps/wcm/connect/0118a6...</span>   \n",
       "\n",
       "                                        REV_POL_LINK  \\\n",
       "<span style=\"color: #008080; text-decoration-color: #008080; font-weight: bold\">0</span>  <span style=\"color: #0000ff; text-decoration-color: #0000ff; text-decoration: underline\">https://www.tcmb.gov.tr/wps/wcm/connect/f12964...</span>   \n",
       "<span style=\"color: #008080; text-decoration-color: #008080; font-weight: bold\">0</span>  <span style=\"color: #0000ff; text-decoration-color: #0000ff; text-decoration: underline\">https://www.tcmb.gov.tr/wps/wcm/connect/f12964...</span>   \n",
       "<span style=\"color: #008080; text-decoration-color: #008080; font-weight: bold\">0</span>  <span style=\"color: #0000ff; text-decoration-color: #0000ff; text-decoration: underline\">https://www.tcmb.gov.tr/wps/wcm/connect/f12964...</span>   \n",
       "\n",
       "                                    REV_POL_LINK_ENG  \\\n",
       "<span style=\"color: #008080; text-decoration-color: #008080; font-weight: bold\">0</span>  <span style=\"color: #0000ff; text-decoration-color: #0000ff; text-decoration: underline\">https://www.tcmb.gov.tr/wps/wcm/connect/c4edef...</span>   \n",
       "<span style=\"color: #008080; text-decoration-color: #008080; font-weight: bold\">0</span>  <span style=\"color: #0000ff; text-decoration-color: #0000ff; text-decoration: underline\">https://www.tcmb.gov.tr/wps/wcm/connect/c4edef...</span>   \n",
       "<span style=\"color: #008080; text-decoration-color: #008080; font-weight: bold\">0</span>  <span style=\"color: #0000ff; text-decoration-color: #0000ff; text-decoration: underline\">https://www.tcmb.gov.tr/wps/wcm/connect/c4edef...</span>   \n",
       "\n",
       "                                        APP_CHA_LINK  \\\n",
       "<span style=\"color: #008080; text-decoration-color: #008080; font-weight: bold\">0</span>  <span style=\"color: #0000ff; text-decoration-color: #0000ff; text-decoration: underline\">https://www.tcmb.gov.tr/wps/wcm/connect/7051bb...</span>   \n",
       "<span style=\"color: #008080; text-decoration-color: #008080; font-weight: bold\">0</span>  <span style=\"color: #0000ff; text-decoration-color: #0000ff; text-decoration: underline\">https://www.tcmb.gov.tr/wps/wcm/connect/7051bb...</span>   \n",
       "<span style=\"color: #008080; text-decoration-color: #008080; font-weight: bold\">0</span>  <span style=\"color: #0000ff; text-decoration-color: #0000ff; text-decoration: underline\">https://www.tcmb.gov.tr/wps/wcm/connect/7051bb...</span>   \n",
       "\n",
       "                                    APP_CHA_LINK_ENG  START_DATE    END_DATE  \n",
       "<span style=\"color: #008080; text-decoration-color: #008080; font-weight: bold\">0</span>  <span style=\"color: #0000ff; text-decoration-color: #0000ff; text-decoration: underline\">https://www.tcmb.gov.tr/wps/wcm/connect/574622...</span>  <span style=\"color: #008080; text-decoration-color: #008080; font-weight: bold\">01</span>-<span style=\"color: #008080; text-decoration-color: #008080; font-weight: bold\">01</span>-<span style=\"color: #008080; text-decoration-color: #008080; font-weight: bold\">2007</span>  <span style=\"color: #008080; text-decoration-color: #008080; font-weight: bold\">01</span>-<span style=\"color: #008080; text-decoration-color: #008080; font-weight: bold\">07</span>-<span style=\"color: #008080; text-decoration-color: #008080; font-weight: bold\">2024</span>  \n",
       "<span style=\"color: #008080; text-decoration-color: #008080; font-weight: bold\">0</span>  <span style=\"color: #0000ff; text-decoration-color: #0000ff; text-decoration: underline\">https://www.tcmb.gov.tr/wps/wcm/connect/574622...</span>  <span style=\"color: #008080; text-decoration-color: #008080; font-weight: bold\">01</span>-<span style=\"color: #008080; text-decoration-color: #008080; font-weight: bold\">01</span>-<span style=\"color: #008080; text-decoration-color: #008080; font-weight: bold\">2007</span>  <span style=\"color: #008080; text-decoration-color: #008080; font-weight: bold\">01</span>-<span style=\"color: #008080; text-decoration-color: #008080; font-weight: bold\">07</span>-<span style=\"color: #008080; text-decoration-color: #008080; font-weight: bold\">2024</span>  \n",
       "<span style=\"color: #008080; text-decoration-color: #008080; font-weight: bold\">0</span>  <span style=\"color: #0000ff; text-decoration-color: #0000ff; text-decoration: underline\">https://www.tcmb.gov.tr/wps/wcm/connect/574622...</span>  <span style=\"color: #008080; text-decoration-color: #008080; font-weight: bold\">01</span>-<span style=\"color: #008080; text-decoration-color: #008080; font-weight: bold\">01</span>-<span style=\"color: #008080; text-decoration-color: #008080; font-weight: bold\">2007</span>  <span style=\"color: #008080; text-decoration-color: #008080; font-weight: bold\">01</span>-<span style=\"color: #008080; text-decoration-color: #008080; font-weight: bold\">07</span>-<span style=\"color: #008080; text-decoration-color: #008080; font-weight: bold\">2024</span>  \n",
       "</pre>\n"
      ],
      "text/plain": [
       "           SERIE_CODE DATAGROUP_CODE  \\\n",
       "\u001b[1;36m0\u001b[0m  TP.IYA.INVE2.S26.A      bie_inve2   \n",
       "\u001b[1;36m0\u001b[0m  TP.IYA.CNDU2.S26.A      bie_cndu2   \n",
       "\u001b[1;36m0\u001b[0m  TP.IYA.CDUR2.S26.A      bie_cdur2   \n",
       "\n",
       "                                          SERIE_NAME  \\\n",
       "\u001b[1;36m0\u001b[0m  \u001b[1;35m26.\u001b[0m\u001b[1m(\u001b[0mAĞIRLIKLI ORTALAMA\u001b[1m)\u001b[0m Gelecek on iki aylık d\u001b[33m...\u001b[0m   \n",
       "\u001b[1;36m0\u001b[0m  \u001b[1;35m26.\u001b[0m\u001b[1m(\u001b[0mAĞIRLIKLI ORTALAMA\u001b[1m)\u001b[0m Gelecek on iki aylık d\u001b[33m...\u001b[0m   \n",
       "\u001b[1;36m0\u001b[0m  \u001b[1;35m26.\u001b[0m\u001b[1m(\u001b[0mAĞIRLIKLI ORTALAMA\u001b[1m)\u001b[0m Gelecek on iki aylık d\u001b[33m...\u001b[0m   \n",
       "\n",
       "                                      SERIE_NAME_ENG FREQUENCY_STR  \\\n",
       "\u001b[1;36m0\u001b[0m  \u001b[1;35m26.\u001b[0m\u001b[1m(\u001b[0mWEIGHTED AVERAGE\u001b[1m)\u001b[0m What is your expectation\u001b[33m...\u001b[0m         AYLIK   \n",
       "\u001b[1;36m0\u001b[0m  \u001b[1;35m26.\u001b[0m\u001b[1m(\u001b[0mWEIGHTED AVERAGE\u001b[1m)\u001b[0m What is your expectation\u001b[33m...\u001b[0m         AYLIK   \n",
       "\u001b[1;36m0\u001b[0m  \u001b[1;35m26.\u001b[0m\u001b[1m(\u001b[0mWEIGHTED AVERAGE\u001b[1m)\u001b[0m What is your expectation\u001b[33m...\u001b[0m         AYLIK   \n",
       "\n",
       "  DEFAULT_AGG_METHOD_STR DEFAULT_AGG_METHOD  \\\n",
       "\u001b[1;36m0\u001b[0m               ORTALAMA                avg   \n",
       "\u001b[1;36m0\u001b[0m               ORTALAMA                avg   \n",
       "\u001b[1;36m0\u001b[0m               ORTALAMA                avg   \n",
       "\n",
       "                                                 TAG  \\\n",
       "\u001b[1;36m0\u001b[0m  RKGE, Reel, Kesim, Güven, Endeks, İktisadi Yön\u001b[33m...\u001b[0m   \n",
       "\u001b[1;36m0\u001b[0m  RKGE, Reel, Kesim, Güven, Endeks, İktisadi Yön\u001b[33m...\u001b[0m   \n",
       "\u001b[1;36m0\u001b[0m  RKGE, Reel, Kesim, Güven, Endeks, İktisadi Yön\u001b[33m...\u001b[0m   \n",
       "\n",
       "                                             TAG_ENG DATASOURCE  \\\n",
       "\u001b[1;36m0\u001b[0m  RSCI, Real, Sector, Confidence, Index, Busines\u001b[33m...\u001b[0m       TCMB   \n",
       "\u001b[1;36m0\u001b[0m  RSCI, Real, Sector, Confidence, Index, Busines\u001b[33m...\u001b[0m       TCMB   \n",
       "\u001b[1;36m0\u001b[0m  RSCI, Real, Sector, Confidence, Index, Busines\u001b[33m...\u001b[0m       TCMB   \n",
       "\n",
       "  DATASOURCE_ENG                                      METADATA_LINK  \\\n",
       "\u001b[1;36m0\u001b[0m           CBRT  \u001b[4;94mhttps://www.tcmb.gov.tr/wps/wcm/connect/422e34...\u001b[0m   \n",
       "\u001b[1;36m0\u001b[0m           CBRT  \u001b[4;94mhttps://www.tcmb.gov.tr/wps/wcm/connect/422e34...\u001b[0m   \n",
       "\u001b[1;36m0\u001b[0m           CBRT  \u001b[4;94mhttps://www.tcmb.gov.tr/wps/wcm/connect/422e34...\u001b[0m   \n",
       "\n",
       "                                   METADATA_LINK_ENG  \\\n",
       "\u001b[1;36m0\u001b[0m  \u001b[4;94mhttps://www.tcmb.gov.tr/wps/wcm/connect/0118a6...\u001b[0m   \n",
       "\u001b[1;36m0\u001b[0m  \u001b[4;94mhttps://www.tcmb.gov.tr/wps/wcm/connect/0118a6...\u001b[0m   \n",
       "\u001b[1;36m0\u001b[0m  \u001b[4;94mhttps://www.tcmb.gov.tr/wps/wcm/connect/0118a6...\u001b[0m   \n",
       "\n",
       "                                        REV_POL_LINK  \\\n",
       "\u001b[1;36m0\u001b[0m  \u001b[4;94mhttps://www.tcmb.gov.tr/wps/wcm/connect/f12964...\u001b[0m   \n",
       "\u001b[1;36m0\u001b[0m  \u001b[4;94mhttps://www.tcmb.gov.tr/wps/wcm/connect/f12964...\u001b[0m   \n",
       "\u001b[1;36m0\u001b[0m  \u001b[4;94mhttps://www.tcmb.gov.tr/wps/wcm/connect/f12964...\u001b[0m   \n",
       "\n",
       "                                    REV_POL_LINK_ENG  \\\n",
       "\u001b[1;36m0\u001b[0m  \u001b[4;94mhttps://www.tcmb.gov.tr/wps/wcm/connect/c4edef...\u001b[0m   \n",
       "\u001b[1;36m0\u001b[0m  \u001b[4;94mhttps://www.tcmb.gov.tr/wps/wcm/connect/c4edef...\u001b[0m   \n",
       "\u001b[1;36m0\u001b[0m  \u001b[4;94mhttps://www.tcmb.gov.tr/wps/wcm/connect/c4edef...\u001b[0m   \n",
       "\n",
       "                                        APP_CHA_LINK  \\\n",
       "\u001b[1;36m0\u001b[0m  \u001b[4;94mhttps://www.tcmb.gov.tr/wps/wcm/connect/7051bb...\u001b[0m   \n",
       "\u001b[1;36m0\u001b[0m  \u001b[4;94mhttps://www.tcmb.gov.tr/wps/wcm/connect/7051bb...\u001b[0m   \n",
       "\u001b[1;36m0\u001b[0m  \u001b[4;94mhttps://www.tcmb.gov.tr/wps/wcm/connect/7051bb...\u001b[0m   \n",
       "\n",
       "                                    APP_CHA_LINK_ENG  START_DATE    END_DATE  \n",
       "\u001b[1;36m0\u001b[0m  \u001b[4;94mhttps://www.tcmb.gov.tr/wps/wcm/connect/574622...\u001b[0m  \u001b[1;36m01\u001b[0m-\u001b[1;36m01\u001b[0m-\u001b[1;36m2007\u001b[0m  \u001b[1;36m01\u001b[0m-\u001b[1;36m07\u001b[0m-\u001b[1;36m2024\u001b[0m  \n",
       "\u001b[1;36m0\u001b[0m  \u001b[4;94mhttps://www.tcmb.gov.tr/wps/wcm/connect/574622...\u001b[0m  \u001b[1;36m01\u001b[0m-\u001b[1;36m01\u001b[0m-\u001b[1;36m2007\u001b[0m  \u001b[1;36m01\u001b[0m-\u001b[1;36m07\u001b[0m-\u001b[1;36m2024\u001b[0m  \n",
       "\u001b[1;36m0\u001b[0m  \u001b[4;94mhttps://www.tcmb.gov.tr/wps/wcm/connect/574622...\u001b[0m  \u001b[1;36m01\u001b[0m-\u001b[1;36m01\u001b[0m-\u001b[1;36m2007\u001b[0m  \u001b[1;36m01\u001b[0m-\u001b[1;36m07\u001b[0m-\u001b[1;36m2024\u001b[0m  \n"
      ]
     },
     "metadata": {},
     "output_type": "display_data"
    }
   ],
   "source": [
    "print(result.metadata)"
   ]
  },
  {
   "cell_type": "code",
   "execution_count": 11,
   "id": "c1b794df-af36-4267-930e-faecde75f7e1",
   "metadata": {},
   "outputs": [
    {
     "data": {
      "text/html": [
       "<pre style=\"white-space:pre;overflow-x:auto;line-height:normal;font-family:Menlo,'DejaVu Sans Mono',consolas,'Courier New',monospace\">These tickets provide sectoral inflation indexes based on producer prices expectations over the next twelve months.\n",
       "You can retrieve the data using the get_series function in the evdspy package. Each ticket corresponds to a \n",
       "different sector: TP.IYA.INVE2.S26.A <span style=\"font-weight: bold\">(</span>Investment<span style=\"font-weight: bold\">)</span>, TP.IYA.CNDU2.S26.A <span style=\"font-weight: bold\">(</span>Consumer<span style=\"font-weight: bold\">)</span>, and TP.IYA.CDUR2.S26.A <span style=\"font-weight: bold\">(</span>Durable \n",
       "Goods<span style=\"font-weight: bold\">)</span>.\n",
       "</pre>\n"
      ],
      "text/plain": [
       "These tickets provide sectoral inflation indexes based on producer prices expectations over the next twelve months.\n",
       "You can retrieve the data using the get_series function in the evdspy package. Each ticket corresponds to a \n",
       "different sector: TP.IYA.INVE2.S26.A \u001b[1m(\u001b[0mInvestment\u001b[1m)\u001b[0m, TP.IYA.CNDU2.S26.A \u001b[1m(\u001b[0mConsumer\u001b[1m)\u001b[0m, and TP.IYA.CDUR2.S26.A \u001b[1m(\u001b[0mDurable \n",
       "Goods\u001b[1m)\u001b[0m.\n"
      ]
     },
     "metadata": {},
     "output_type": "display_data"
    }
   ],
   "source": [
    "print(notes)"
   ]
  }
 ],
 "metadata": {
  "kernelspec": {
   "display_name": "Python 3 (ipykernel)",
   "language": "python",
   "name": "python3"
  },
  "language_info": {
   "codemirror_mode": {
    "name": "ipython",
    "version": 3
   },
   "file_extension": ".py",
   "mimetype": "text/x-python",
   "name": "python",
   "nbconvert_exporter": "python",
   "pygments_lexer": "ipython3",
   "version": "3.10.14"
  }
 },
 "nbformat": 4,
 "nbformat_minor": 5
}
